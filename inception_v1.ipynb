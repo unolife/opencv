{
 "cells": [
  {
   "cell_type": "code",
   "execution_count": null,
   "metadata": {},
   "outputs": [],
   "source": [
    "# https://datascienceschool.net/view-notebook/8d34d65bcced42ef84996b5d56321ba9/\n",
    "\n",
    "# Inception 모듈 정의\n",
    "def inception_module(x, o_1=64, r_3=64, o_3=128, r_5=16, o_5=32, pool=32):\n",
    "    \"\"\"\n",
    "    # Arguments\n",
    "    x: 입력이미지\n",
    "    o_1 : 1x1 conv 연산 출력값의 채널 수\n",
    "    r_3 : 3x3 conv 이전에 있는 1x1 conv의 출력값 채널 수\n",
    "    o_3 : 3x3 conv 연산 출력값의 채널 수\n",
    "    r_5 : 5x5 conv 이전에 있는 1x1 conv의 출력값 채널 수\n",
    "    o_5 : 5x5 conv 연산 출력값의 채널 수\n",
    "    pool : maxpooling 다음의 1x1 conv의 출력값 채널 수\n",
    "\n",
    "    # returns\n",
    "    4 종류의 연산의 결과 값을 채널 방향으로 합친 결과\n",
    "    \"\"\"\n",
    "\n",
    "    x_1 = layers.Conv2D(o_1, 1, padding='same')(x)\n",
    "    \n",
    "    x_2 = layers.Conv2D(r_3, 1, padding='same')(x)\n",
    "    x_2 = layers.Conv2D(o_3, 3, padding='same')(x_2)\n",
    "    \n",
    "    x_3 = layers.Conv2D(r_5, 1, padding='same')(x)\n",
    "    x_3 = layers.Conv2D(o_5, 1, padding='same')(x_3)\n",
    "    \n",
    "    x_4 = layers.MaxPooling2D(pool_size=(3,3), strides=1, padding='same')(x)\n",
    "    x_4 = layers.Conv2D(pool, 1, padding='same')(x_4)\n",
    "    \n",
    "    return layers.concatenate([x_1, x_2, x_3, x_4])"
   ]
  },
  {
   "cell_type": "code",
   "execution_count": null,
   "metadata": {},
   "outputs": [],
   "source": [
    "from keras import layers\n",
    "from keras.datasets import mnist\n",
    "from keras.models import Sequential, Model\n",
    "from keras.optimizers import Adam\n",
    "from keras.models import load_model\n",
    "import numpy as np\n",
    "import matplotlib.pyplot as plt\n",
    "%matplotlib inline"
   ]
  },
  {
   "cell_type": "code",
   "execution_count": null,
   "metadata": {},
   "outputs": [],
   "source": [
    "img_shape = (224, 224, 3)\n",
    "\n",
    "input_ = layers.Input(shape=img_shape)\n",
    "x = layers.Conv2D(64, 7, strides=2, padding='same')(input_)\n",
    "x = layers.MaxPooling2D(pool_size=(3,3), strides=2, padding='same')(x)\n",
    "x = layers.BatchNormalization()(x)\n",
    "x = layers.Conv2D(64, 1, strides=1)(x)\n",
    "x = layers.Conv2D(192, 3, strides=1, padding='same')(x)\n",
    "x = layers.BatchNormalization()(x)\n",
    "x = layers.MaxPooling2D(pool_size=(3,3), strides=2, padding='same')(x)\n",
    "\n",
    "x = inception_module(x, o_1=64, r_3=64, o_3=128, r_5=16, o_5=32, pool=32)\n",
    "x = inception_module(x, o_1=128, r_3=128, o_3=192, r_5=32, o_5=96, pool=64)\n",
    "x = layers.MaxPooling2D(pool_size=(3,3), strides=2, padding='same')(x)\n",
    "\n",
    "x = inception_module(x, o_1=192, r_3=96, o_3=208, r_5=16, o_5=48, pool=64)\n",
    "x = inception_module(x, o_1=160, r_3=112, o_3=224, r_5=24, o_5=64, pool=64)\n",
    "x = inception_module(x, o_1=128, r_3=128, o_3=256, r_5=24, o_5=64, pool=64)\n",
    "x = inception_module(x, o_1=112, r_3=144, o_3=288, r_5=32, o_5=64, pool=64)\n",
    "x = inception_module(x, o_1=256, r_3=160, o_3=320, r_5=32, o_5=128, pool=128)\n",
    "x = layers.MaxPooling2D(pool_size=(3,3), strides=2, padding='same')(x)\n",
    "\n",
    "x = inception_module(x, o_1=256, r_3=160, o_3=320, r_5=32, o_5=128, pool=128)\n",
    "x = inception_module(x, o_1=384, r_3=192, o_3=384, r_5=48, o_5=128, pool=128)\n",
    "x = layers.AveragePooling2D(pool_size=(7,7), strides=1)(x)\n",
    "x = layers.Dropout(0.4)(x)\n",
    "x = layers.Dense(1000)(x)\n",
    "output = layers.Activation('softmax')(x)\n",
    "\n",
    "googlenet = Model(input_, output)"
   ]
  },
  {
   "cell_type": "code",
   "execution_count": null,
   "metadata": {},
   "outputs": [],
   "source": [
    "googlenet.summary()"
   ]
  },
  {
   "cell_type": "code",
   "execution_count": null,
   "metadata": {},
   "outputs": [],
   "source": [
    "print(\"전체 파라미터 수 : {}\".format(sum([arr.flatten().shape[0] for arr in googlenet.get_weights()])))"
   ]
  },
  {
   "cell_type": "markdown",
   "metadata": {},
   "source": [
    "# Inception V3"
   ]
  },
  {
   "cell_type": "code",
   "execution_count": null,
   "metadata": {},
   "outputs": [],
   "source": [
    "from keras.applications.inception_v3 import InceptionV3, decode_predictions\n",
    "\n",
    "inceptionv3 = InceptionV3(input_shape=(299,299,3))\n",
    "inceptionv3.summary()"
   ]
  },
  {
   "cell_type": "code",
   "execution_count": null,
   "metadata": {},
   "outputs": [],
   "source": [
    "import cv2\n",
    "import time\n",
    "\n",
    "img = cv2.imread('./sample_data/0.jpg', -1)\n",
    "# plt.imshow(img)\n",
    "# plt.show()\n",
    "# print(img.shape)\n",
    "img = cv2.resize(img, (299,299))\n",
    "\n",
    "start = time.time()\n",
    "yhat = inceptionv3.predict(img.reshape(-1, 299, 299, 3))\n",
    "time = time.time() - start\n",
    "label_key = np.argmax(yhat)\n",
    "label = decode_predictions(yhat)\n",
    "label = lable[0][0]\n",
    "\n",
    "print(\"테스트 시 소요 시간 : {}\".format(time))\n",
    "print(\"%s (%.2f%%)\" % (label[1], label[2]*100))\n",
    "img = img[:,:,::-1]\n",
    "plt.figure(figsize=(11,11))\n",
    "plt.imshow(img)\n",
    "plt.axis(\"off\")\n",
    "plt.show()"
   ]
  },
  {
   "cell_type": "markdown",
   "metadata": {},
   "source": [
    "* 에러 메세지\n",
    "UnknownError: Failed to get convolution algorithm. This is probably because cuDNN failed to initialize, so try looking to see if a warning log message was printed above.\n",
    "\t [[{{node conv2d_229/convolution}}]]\n",
    "     \n",
    "* 해결책\n",
    "https://github.com/tensorflow/tensorflow/issues/28326\n",
    "This error is for sure due to version mismatch of Cuda/cudnn. When I got this error I followed the instructions on this link https://www.tensorflow.org/install/gpu and it solved the problem. Have you tried that?\n",
    "\n",
    "가상환경을 쓰자....."
   ]
  },
  {
   "cell_type": "code",
   "execution_count": 1,
   "metadata": {},
   "outputs": [
    {
     "name": "stderr",
     "output_type": "stream",
     "text": [
      "/home/test/opencv/InceptionV1/lib/python3.6/site-packages/tensorflow/python/framework/dtypes.py:526: FutureWarning: Passing (type, 1) or '1type' as a synonym of type is deprecated; in a future version of numpy, it will be understood as (type, (1,)) / '(1,)type'.\n",
      "  _np_qint8 = np.dtype([(\"qint8\", np.int8, 1)])\n",
      "/home/test/opencv/InceptionV1/lib/python3.6/site-packages/tensorflow/python/framework/dtypes.py:527: FutureWarning: Passing (type, 1) or '1type' as a synonym of type is deprecated; in a future version of numpy, it will be understood as (type, (1,)) / '(1,)type'.\n",
      "  _np_quint8 = np.dtype([(\"quint8\", np.uint8, 1)])\n",
      "/home/test/opencv/InceptionV1/lib/python3.6/site-packages/tensorflow/python/framework/dtypes.py:528: FutureWarning: Passing (type, 1) or '1type' as a synonym of type is deprecated; in a future version of numpy, it will be understood as (type, (1,)) / '(1,)type'.\n",
      "  _np_qint16 = np.dtype([(\"qint16\", np.int16, 1)])\n",
      "/home/test/opencv/InceptionV1/lib/python3.6/site-packages/tensorflow/python/framework/dtypes.py:529: FutureWarning: Passing (type, 1) or '1type' as a synonym of type is deprecated; in a future version of numpy, it will be understood as (type, (1,)) / '(1,)type'.\n",
      "  _np_quint16 = np.dtype([(\"quint16\", np.uint16, 1)])\n",
      "/home/test/opencv/InceptionV1/lib/python3.6/site-packages/tensorflow/python/framework/dtypes.py:530: FutureWarning: Passing (type, 1) or '1type' as a synonym of type is deprecated; in a future version of numpy, it will be understood as (type, (1,)) / '(1,)type'.\n",
      "  _np_qint32 = np.dtype([(\"qint32\", np.int32, 1)])\n",
      "/home/test/opencv/InceptionV1/lib/python3.6/site-packages/tensorflow/python/framework/dtypes.py:535: FutureWarning: Passing (type, 1) or '1type' as a synonym of type is deprecated; in a future version of numpy, it will be understood as (type, (1,)) / '(1,)type'.\n",
      "  np_resource = np.dtype([(\"resource\", np.ubyte, 1)])\n"
     ]
    },
    {
     "data": {
      "text/plain": [
       "'1.13.1'"
      ]
     },
     "execution_count": 1,
     "metadata": {},
     "output_type": "execute_result"
    }
   ],
   "source": [
    "import tensorflow as tf\n",
    "tf.__version__"
   ]
  },
  {
   "cell_type": "code",
   "execution_count": null,
   "metadata": {},
   "outputs": [],
   "source": []
  }
 ],
 "metadata": {
  "kernelspec": {
   "display_name": "Python 3",
   "language": "python",
   "name": "python3"
  },
  "language_info": {
   "codemirror_mode": {
    "name": "ipython",
    "version": 3
   },
   "file_extension": ".py",
   "mimetype": "text/x-python",
   "name": "python",
   "nbconvert_exporter": "python",
   "pygments_lexer": "ipython3",
   "version": "3.6.8"
  }
 },
 "nbformat": 4,
 "nbformat_minor": 2
}
